{
  "cells": [
    {
      "cell_type": "markdown",
      "metadata": {
        "id": "8911Z-GCkUu4"
      },
      "source": [
        "# Data Exploration, Pre-processing and Wrangling\n",
        "\n",
        "BITS F464 Assignment 1"
      ]
    },
    {
      "cell_type": "markdown",
      "metadata": {},
      "source": [
        "### Installing and Importing Dependencies"
      ]
    },
    {
      "cell_type": "code",
      "execution_count": null,
      "metadata": {
        "id": "GqBugrtRkxsY"
      },
      "outputs": [],
      "source": [
        "%pip install -q numpy\n",
        "%pip install -q pandas\n",
        "%pip install -q matplotlib\n",
        "%pip install -q seaborn"
      ]
    },
    {
      "cell_type": "code",
      "execution_count": null,
      "metadata": {
        "id": "iWTB_WcAkpwx"
      },
      "outputs": [],
      "source": [
        "import pandas as pd\n",
        "import numpy as np\n",
        "import matplotlib.pyplot as plt\n",
        "import seaborn as sns\n",
        "import io"
      ]
    },
    {
      "cell_type": "markdown",
      "metadata": {},
      "source": [
        "### Task 2"
      ]
    },
    {
      "cell_type": "code",
      "execution_count": null,
      "metadata": {
        "colab": {
          "base_uri": "https://localhost:8080/",
          "height": 223
        },
        "id": "CrbB7pwNmL6u",
        "outputId": "65d6febe-0188-4792-9d76-ec96ea700237"
      },
      "outputs": [],
      "source": [
        "# Task 2\n",
        "df = pd.read_csv('./data/housing.csv');\n",
        "\n",
        "print(\"Number of rows: \",df.shape[0]);\n",
        "\n",
        "df.head()"
      ]
    },
    {
      "cell_type": "markdown",
      "metadata": {
        "id": "HgIee7u7sk-H"
      },
      "source": [
        "### Task 3"
      ]
    },
    {
      "cell_type": "code",
      "execution_count": null,
      "metadata": {
        "colab": {
          "base_uri": "https://localhost:8080/"
        },
        "collapsed": true,
        "id": "aLpUlVgcsucM",
        "outputId": "b6855d98-5f67-4093-c3a9-a94b47a2ea92"
      },
      "outputs": [],
      "source": [
        "print(\"Descriptive Statistics: \\n\")\n",
        "print(df.describe())\n",
        "print(\"\\nMean: \\n\")\n",
        "print(df.mean(numeric_only=True))\n",
        "print(\"\\nMedian: \\n\")\n",
        "print(df.median(numeric_only=True))\n",
        "print(\"\\nMode: \\n\")\n",
        "print(df.mode(numeric_only=True))"
      ]
    },
    {
      "cell_type": "markdown",
      "metadata": {
        "id": "rfn6qJxNtUdC"
      },
      "source": [
        "### Task 4"
      ]
    },
    {
      "cell_type": "code",
      "execution_count": null,
      "metadata": {
        "colab": {
          "base_uri": "https://localhost:8080/",
          "height": 1000
        },
        "id": "KfQRMARhtYFT",
        "outputId": "06c930db-9975-460f-99c7-fe9c30a1ccac"
      },
      "outputs": [],
      "source": [
        "for col in df.columns:\n",
        "    if df[col].dtype in ['int64', 'float64']:\n",
        "        stats = {\n",
        "            'min': df[col].min(),\n",
        "            'max': df[col].max(),\n",
        "            'mean': df[col].mean(),\n",
        "            'median': df[col].median(),\n",
        "            'std_dev': df[col].std()\n",
        "        }\n",
        "\n",
        "        plt.figure(figsize=(4, 2.5))\n",
        "        plt.plot(list(stats.keys()), list(stats.values()), marker='o', color='blue', linestyle='-', linewidth=2)\n",
        "        plt.title(f'Statistics for {col}')\n",
        "        plt.ylabel('Value')\n",
        "        plt.grid(True)\n",
        "        plt.show()\n",
        "\n",
        "        print(\"\\n\");\n",
        "\n",
        "\n",
        "# ALTERNATIVELY\n",
        "# plt.plot(df.describe())\n",
        "# plt.show()"
      ]
    },
    {
      "cell_type": "markdown",
      "metadata": {
        "id": "UP3C69iQtnVj"
      },
      "source": [
        "### Task 5 and 6"
      ]
    },
    {
      "cell_type": "code",
      "execution_count": null,
      "metadata": {
        "id": "PwDGvWhittFz"
      },
      "outputs": [],
      "source": [
        "def fun(col):\n",
        "    stats = {\n",
        "        'min': df[col].min(),\n",
        "        'max': df[col].max(),\n",
        "        'mean': df[col].mean(),\n",
        "        'median': df[col].median(),\n",
        "        'std_dev': df[col].std()\n",
        "    }\n",
        "    print(\"min: \",df[col].min())\n",
        "    print(\"max: \",df[col].max())\n",
        "    print(\"mean: \",df[col].mean())\n",
        "    print(\"median: \",df[col].median())\n",
        "    print(\"std_dev: \",df[col].std())\n",
        "    plt.figure(figsize=(4, 2.5))\n",
        "    plt.plot(list(stats.keys()), list(stats.values()), marker='o', color='blue', linestyle='-', linewidth=2)\n",
        "    plt.title(f'Statistics for {col}')\n",
        "    plt.ylabel('Value')\n",
        "    plt.grid(True)\n",
        "    plt.show()\n"
      ]
    },
    {
      "cell_type": "code",
      "execution_count": null,
      "metadata": {
        "colab": {
          "base_uri": "https://localhost:8080/",
          "height": 811
        },
        "id": "2CWT1-5FtpUc",
        "outputId": "68551c24-625f-473f-fab1-3bc09c651e7e"
      },
      "outputs": [],
      "source": [
        "\n",
        "# print(housingData.isna().sum()) #if sum is taken, if even one value is missing, its isna() will return True, which when added up with all the other False values, will give True\n",
        "\n",
        "for col in df.columns:\n",
        "\n",
        "    if df[col].isna().sum() > 0:\n",
        "        print(\"\\n\"+col)\n",
        "        print(\"Before: \\n\")\n",
        "        fun(col) #print stats for column before imputing\n",
        "        df[col].fillna(df[col].median(), inplace=True)\n",
        "        print(\"After: \\n\")\n",
        "        fun(col) #print stats for column after inputing\n",
        "\n",
        "# print(\"\\n\"+housingData.isna().sum()) #to confirm that our imputation worked"
      ]
    },
    {
      "cell_type": "markdown",
      "metadata": {
        "id": "l93pyFzat99c"
      },
      "source": [
        "### Task 7"
      ]
    },
    {
      "cell_type": "code",
      "execution_count": null,
      "metadata": {
        "colab": {
          "base_uri": "https://localhost:8080/"
        },
        "id": "esnTil2gt_YL",
        "outputId": "a80d869a-bf09-4655-f0fa-446b9f0b2be5"
      },
      "outputs": [],
      "source": [
        "print(\"Initial number of rows: \"+str(df.shape[0]))\n",
        "has_duplicates = df.duplicated().any()\n",
        "print(f\"Are there any duplicate rows? {has_duplicates}\")\n",
        "duplicatesRemoved=df.copy()\n",
        "duplicatesRemoved.drop_duplicates()\n",
        "print(\"Final number of rows: \"+str(duplicatesRemoved.shape[0]))"
      ]
    },
    {
      "cell_type": "markdown",
      "metadata": {
        "id": "3vCqajoXvUJ_"
      },
      "source": [
        "### Task 8"
      ]
    },
    {
      "cell_type": "code",
      "execution_count": null,
      "metadata": {
        "colab": {
          "base_uri": "https://localhost:8080/",
          "height": 472
        },
        "id": "i64su5kYvVdy",
        "outputId": "2f4b494d-50a5-4573-ffd5-5cd91c78f4e9"
      },
      "outputs": [],
      "source": [
        "scatterplot = plt.scatter(df['longitude'],df['latitude'])\n",
        "\n",
        "colorbar = plt.colorbar(scatterplot)\n",
        "colorbar.set_label('Median House Value')\n",
        "\n",
        "plt.xlabel('Longitude')\n",
        "plt.ylabel('Latitude')\n",
        "plt.title('Scatter Plot of Housing Data: Longitude vs. Latitude')\n",
        "\n",
        "plt.show()\n"
      ]
    },
    {
      "cell_type": "markdown",
      "metadata": {
        "id": "ApF_GuCyqtn5"
      },
      "source": [
        "### Task 9"
      ]
    },
    {
      "cell_type": "code",
      "execution_count": null,
      "metadata": {
        "colab": {
          "base_uri": "https://localhost:8080/"
        },
        "id": "420rRY0DqvZA",
        "outputId": "74227a56-6732-4324-99a5-3f918a3ca089"
      },
      "outputs": [],
      "source": [
        "print(df[df['total_bedrooms'] < 1500].shape[0])\n",
        "print(df[df['total_bedrooms'] >= 1500].shape[0])"
      ]
    },
    {
      "cell_type": "markdown",
      "metadata": {
        "id": "tiTESVMF9eUL"
      },
      "source": [
        "There are 19779 entries with total bedrooms value is less than 1500."
      ]
    },
    {
      "cell_type": "code",
      "execution_count": null,
      "metadata": {
        "colab": {
          "base_uri": "https://localhost:8080/",
          "height": 573
        },
        "id": "wi27_Z0_95bj",
        "outputId": "9e8ef8f5-aacc-4bb1-faf0-423064f151e0"
      },
      "outputs": [],
      "source": [
        "#Plotting number of houses having total bedrooms less than 1500\n",
        "houses_bedrooms_less_than_1500 = df[df['total_bedrooms'] < 1500]\n",
        "houses_bedrooms_greater_equal_1500 = df[df['total_bedrooms'] >= 1500]\n",
        "\n",
        "plt.figure(figsize=(10, 6))\n",
        "\n",
        "plt.hist(houses_bedrooms_less_than_1500['total_bedrooms'], bins=20, alpha=0.5, label='Bedrooms < 1500', color='green')\n",
        "\n",
        "plt.hist(houses_bedrooms_greater_equal_1500['total_bedrooms'], bins=20, alpha=0.5, label='Bedrooms ≥ 1500', color='red')\n",
        "\n",
        "plt.xlabel('Total Bedrooms')\n",
        "plt.ylabel('Number of Houses')\n",
        "plt.title('Histogram of Houses by Total Bedrooms')\n",
        "plt.legend()\n",
        "plt.show()"
      ]
    },
    {
      "cell_type": "markdown",
      "metadata": {
        "id": "Frt2Bta1-dDv"
      },
      "source": [
        "Plotting number of houses having median house value > $100000"
      ]
    },
    {
      "cell_type": "code",
      "execution_count": null,
      "metadata": {
        "colab": {
          "base_uri": "https://localhost:8080/"
        },
        "id": "pMZs1ruX8IDP",
        "outputId": "cfab9010-aa30-462e-fec1-c5c69c187d4d"
      },
      "outputs": [],
      "source": [
        "k=df['median_house_value']\n",
        "k.mean()"
      ]
    },
    {
      "cell_type": "code",
      "execution_count": null,
      "metadata": {
        "colab": {
          "base_uri": "https://localhost:8080/"
        },
        "id": "fRPE0FpL7OM-",
        "outputId": "2c747dca-045c-400a-a723-93435ca61868"
      },
      "outputs": [],
      "source": [
        "#Plotting number of houses having median house value above $100,000\n",
        "house_value_less_than_100000=df[df['median_house_value'] < 100000]\n",
        "print(house_value_less_than_100000.shape[0])\n",
        "house_value_gr_than_100000=df[df['median_house_value'] >= 100000]\n",
        "print(house_value_gr_than_100000.shape[0])"
      ]
    },
    {
      "cell_type": "code",
      "execution_count": null,
      "metadata": {
        "colab": {
          "base_uri": "https://localhost:8080/",
          "height": 573
        },
        "id": "FZKE4HyP72bc",
        "outputId": "84333cd9-78e1-4dc4-aed9-308f569f7055"
      },
      "outputs": [],
      "source": [
        "houses_value_less_than_100000 = df[df['median_house_value'] < 100000]\n",
        "houses_value_greater_equal_100000 = df[df['median_house_value'] >= 100000]\n",
        "\n",
        "plt.figure(figsize=(10, 6))\n",
        "\n",
        "plt.hist(houses_value_less_than_100000['median_house_value'], bins=20, alpha=0.5, label='Value < $100,000', color='blue')\n",
        "\n",
        "plt.hist(houses_value_greater_equal_100000['median_house_value'], bins=20, alpha=0.5, label='Value ≥ $100,000', color='orange')\n",
        "\n",
        "plt.xlabel('Median House Value')\n",
        "plt.ylabel('Number of Houses')\n",
        "plt.title('Histogram of Houses by Median House Value')\n",
        "plt.legend()\n",
        "plt.show()"
      ]
    },
    {
      "cell_type": "code",
      "execution_count": null,
      "metadata": {
        "colab": {
          "base_uri": "https://localhost:8080/"
        },
        "id": "RXx2ccq7ApFc",
        "outputId": "4fec4ccd-2556-4bef-d855-975bf917647c"
      },
      "outputs": [],
      "source": [
        "#Number of houses having population less than mean\n",
        "population_mean=df['population'].mean()\n",
        "population_mean"
      ]
    },
    {
      "cell_type": "code",
      "execution_count": null,
      "metadata": {
        "colab": {
          "base_uri": "https://localhost:8080/"
        },
        "id": "qnTZmJxLBIw4",
        "outputId": "18f78d7b-074d-4d9e-e13f-38f03d7337f4"
      },
      "outputs": [],
      "source": [
        "houses_population_less_than_mean = df[df['population'] < population_mean]\n",
        "houses_population_greater_equal_mean = df[df['population'] >= population_mean]\n",
        "print(houses_population_less_than_mean.shape[0])\n",
        "print(houses_population_greater_equal_mean.shape[0])"
      ]
    },
    {
      "cell_type": "code",
      "execution_count": null,
      "metadata": {
        "colab": {
          "base_uri": "https://localhost:8080/",
          "height": 573
        },
        "id": "vuEajOna-01c",
        "outputId": "88bc77ee-8f93-4c53-f353-596fc1e3de7c"
      },
      "outputs": [],
      "source": [
        "plt.figure(figsize=(10, 6))\n",
        "\n",
        "plt.hist(houses_population_less_than_mean['population'], bins=20, alpha=0.5, label='Population < mean', color='red')\n",
        "\n",
        "plt.hist(houses_population_greater_equal_mean['population'], bins=20, alpha=0.5, label='Population ≥ mean', color='blue')\n",
        "\n",
        "plt.xlabel('Population')\n",
        "plt.ylabel('Number of Houses')\n",
        "plt.title('Histogram of Houses by Population (< mean vs ≥ mean)')\n",
        "plt.legend()\n",
        "plt.show()"
      ]
    },
    {
      "cell_type": "code",
      "execution_count": null,
      "metadata": {
        "colab": {
          "base_uri": "https://localhost:8080/",
          "height": 496
        },
        "id": "jI504Rq3t_px",
        "outputId": "8a254d7a-d6fd-4fe5-ccaa-70241c968335"
      },
      "outputs": [],
      "source": [
        "plt.figure(figsize=(8, 5))\n",
        "sns.countplot(x='ocean_proximity', data=df,color='blue')\n",
        "plt.title('Distribution of Houses by Ocean Proximity')\n",
        "plt.xlabel('Ocean Proximity')\n",
        "plt.ylabel('Number of Houses')\n",
        "plt.show()"
      ]
    },
    {
      "cell_type": "markdown",
      "metadata": {
        "id": "kXV1A1Bmx2gY"
      },
      "source": [
        "### Task 10"
      ]
    },
    {
      "cell_type": "code",
      "execution_count": null,
      "metadata": {
        "colab": {
          "base_uri": "https://localhost:8080/"
        },
        "id": "_Wya0SLY0IFH",
        "outputId": "0e2424db-fb0e-4e4e-84f1-7812b58f242f"
      },
      "outputs": [],
      "source": [
        "from sklearn.preprocessing import LabelEncoder\n",
        "\n",
        "#Grouping the data by ocean_proximity abd calculating summary statistics for each group\n",
        "grouped = df.groupby('ocean_proximity').describe()\n",
        "print(grouped)"
      ]
    },
    {
      "cell_type": "code",
      "execution_count": null,
      "metadata": {
        "id": "5TFeSI_pj6NQ"
      },
      "outputs": [],
      "source": [
        "#Encoding categorical ocean_proximity values into numerical representations for potential modeling purposes\n",
        "ocean_proximity_le = LabelEncoder()\n",
        "df['ocean_proximity'] = ocean_proximity_le.fit_transform(df['ocean_proximity'])"
      ]
    },
    {
      "cell_type": "code",
      "execution_count": null,
      "metadata": {
        "colab": {
          "base_uri": "https://localhost:8080/",
          "height": 1000
        },
        "id": "Pbf8YcxklSfp",
        "outputId": "125d4cb9-38ba-41da-bdc4-8ea98b71cbba"
      },
      "outputs": [],
      "source": [
        "#Visualizing the distribution of a different target variables across different ocean_proximity categories.\n",
        "sns.set(style=\"whitegrid\")\n",
        "\n",
        "numerical_features = ['housing_median_age', 'total_rooms', 'total_bedrooms',\n",
        "                      'population', 'households', 'median_income', 'median_house_value']\n",
        "\n",
        "for feature in numerical_features:\n",
        "    plt.figure(figsize=(10, 6))\n",
        "    sns.boxplot(x='ocean_proximity', y=feature, data=df)\n",
        "    plt.title(f'Distribution of {feature} by Ocean Proximity')\n",
        "    plt.xlabel('Ocean Proximity')\n",
        "    plt.ylabel(feature)\n",
        "    plt.xticks(ticks=range(len(ocean_proximity_le.classes_)), labels=ocean_proximity_le.classes_)\n",
        "    plt.show()"
      ]
    },
    {
      "cell_type": "markdown",
      "metadata": {
        "id": "12-m4vTd0srd"
      },
      "source": [
        "### Task 11"
      ]
    },
    {
      "cell_type": "code",
      "execution_count": null,
      "metadata": {
        "colab": {
          "base_uri": "https://localhost:8080/",
          "height": 850
        },
        "id": "CVC69ohS1Vl0",
        "outputId": "99ce5358-6c6f-4206-e14e-93bd15a3f347"
      },
      "outputs": [],
      "source": [
        "#Creating a correlation heatmap of the dataset to identify relationships between numerical features\n",
        "numerical_features = ['housing_median_age', 'total_rooms', 'total_bedrooms',\n",
        "                      'population', 'households', 'median_income', 'median_house_value']\n",
        "\n",
        "correlation_matrix = df[numerical_features].corr()\n",
        "\n",
        "plt.figure(figsize=(12, 8))\n",
        "sns.heatmap(correlation_matrix, annot=True, cmap='coolwarm', linewidths=0.5)\n",
        "plt.title('Correlation Heatmap of Numerical Features')\n",
        "plt.show()"
      ]
    },
    {
      "cell_type": "code",
      "execution_count": null,
      "metadata": {
        "colab": {
          "base_uri": "https://localhost:8080/",
          "height": 936
        },
        "id": "OmuntxWfo02k",
        "outputId": "9d0d9ce2-5146-40cb-9f78-9cc0207e5dc5"
      },
      "outputs": [],
      "source": [
        "#Box plots for all numerical features to visualize their distribution and potential outliers\n",
        "numerical_columns = ['longitude', 'latitude', 'housing_median_age',\n",
        "                     'total_rooms', 'total_bedrooms', 'population',\n",
        "                     'households', 'median_income', 'median_house_value']\n",
        "\n",
        "df[numerical_columns].plot(kind='box', subplots=True, layout=(3,3), figsize=(15, 10))\n",
        "\n",
        "plt.suptitle('Boxplots of Numerical Attributes')\n",
        "plt.show()"
      ]
    },
    {
      "cell_type": "markdown",
      "metadata": {
        "id": "EHT9BZ2Fe0p1"
      },
      "source": [
        "#Drawing Insights from heatmap and boxplots"
      ]
    },
    {
      "cell_type": "markdown",
      "metadata": {
        "id": "Chem3Xcjm2dS"
      },
      "source": [
        "The following features have **strong correlation** with each other:\n",
        "\n",
        "•\t*total_rooms and total_bedrooms*\n",
        "\n",
        "•\t*total_rooms and households*\n",
        "\n",
        "•\t*total_rooms and population*\n",
        "\n",
        "•\t*total_bedrooms and population*\n",
        "\n",
        "•\t*total_bedrooms and households*\n",
        "\n",
        "•\t*population and households*\n",
        "\n",
        "•\t*median_income and median_house_value*\n",
        "\n",
        "\n",
        "\n"
      ]
    },
    {
      "cell_type": "markdown",
      "metadata": {
        "id": "ND1k_3h8fKhk"
      },
      "source": [
        "**Outlier Detection:**\n",
        "\n",
        "**Total Rooms, Total Bedrooms, Population, and Households:**\n",
        "\n",
        "These attributes have a significant number of outliers, as indicated by the many points above the upper area of the boxplot.\n",
        "\n",
        "**Median Income:**\n",
        "\n",
        "The distribution of median income seems to be broader, indicating more variability in income levels among the households.\n",
        "\n",
        "**Median House Value:**\n",
        "\n",
        "Outliers: There are also outliers present in the median house value, though the number is relatively fewer compared to attributes like total rooms or population."
      ]
    },
    {
      "cell_type": "markdown",
      "metadata": {
        "id": "Iz5R-rOzeGdd"
      },
      "source": [
        "*Taking the target variable as **median_house_value**, we get the **feature importance** as follows:*\n",
        "\n",
        "**Median Income (0.69):** This has the highest positive correlation with\n",
        "median_house_value, suggesting it is the most important feature.\n",
        "\n",
        "**Total Rooms (0.13):** This has a small positive correlation with median_house_value, indicating moderate importance.\n",
        "\n",
        "**Housing Median Age (0.11)**: This also has a small positive correlation with median_house_value.\n",
        "\n",
        "**Households (0.066)**: Slight positive correlation, indicating it might have some relevance.\n",
        "\n",
        "**Total Bedrooms (0.05)**: Very small positive correlation, suggesting low importance.\n",
        "\n",
        "**Population (-0.025)**: Near-zero correlation, indicating it is not very important."
      ]
    },
    {
      "cell_type": "code",
      "execution_count": null,
      "metadata": {
        "id": "MdGQAkT73mKU"
      },
      "outputs": [],
      "source": [
        "df['cost_per_sqft'] = df['median_house_value'] / df['total_rooms']"
      ]
    },
    {
      "cell_type": "code",
      "execution_count": null,
      "metadata": {
        "colab": {
          "base_uri": "https://localhost:8080/",
          "height": 243
        },
        "id": "k_K2YEyKGi11",
        "outputId": "1bd0b2ba-3bbc-4e93-965e-89664dfa9ef7"
      },
      "outputs": [],
      "source": [
        "threshold = df['median_house_value'].quantile(0.90)\n",
        "\n",
        "premium_houses = df[df['median_house_value'] > threshold]\n",
        "print(premium_houses.shape[0])\n",
        "premium_houses.head()"
      ]
    },
    {
      "cell_type": "code",
      "execution_count": null,
      "metadata": {
        "colab": {
          "base_uri": "https://localhost:8080/",
          "height": 573
        },
        "id": "8tu0Ldrtvqk-",
        "outputId": "052b791b-8f3e-4d7d-d86c-53a9f0e70aba"
      },
      "outputs": [],
      "source": [
        "# Plotting the distribution of premium houses based on ocean proximity\n",
        "plt.figure(figsize=(12, 6))\n",
        "sns.countplot(data=premium_houses, x='ocean_proximity')\n",
        "plt.title('Distribution of Premium Houses by Ocean Proximity')\n",
        "plt.show()"
      ]
    },
    {
      "cell_type": "code",
      "execution_count": null,
      "metadata": {
        "colab": {
          "base_uri": "https://localhost:8080/",
          "height": 573
        },
        "id": "E6TTO_MituSz",
        "outputId": "5f87df71-4c4b-45f8-f4e9-a44c5797a69b"
      },
      "outputs": [],
      "source": [
        "plt.figure(figsize=(12, 6))\n",
        "sns.histplot(data=premium_houses, x='median_income', bins=10)\n",
        "plt.title('Distribution of Median Income for Premium Houses')\n",
        "plt.show()"
      ]
    },
    {
      "cell_type": "code",
      "execution_count": null,
      "metadata": {
        "colab": {
          "base_uri": "https://localhost:8080/",
          "height": 573
        },
        "id": "eJgc9rJGuALc",
        "outputId": "e0ea7aa9-0972-4188-b343-9bdde1c2e135"
      },
      "outputs": [],
      "source": [
        "plt.figure(figsize=(12, 6))\n",
        "sns.histplot(data=premium_houses, x='cost_per_sqft', bins=100)\n",
        "plt.title('Distribution of Cost per Square Foot for Premium Houses')\n",
        "plt.show()"
      ]
    },
    {
      "cell_type": "code",
      "execution_count": null,
      "metadata": {
        "colab": {
          "base_uri": "https://localhost:8080/",
          "height": 573
        },
        "id": "wcpCZVCaxE_q",
        "outputId": "e0bdf924-71a9-42ea-f47f-df2ea66e84f5"
      },
      "outputs": [],
      "source": [
        "plt.figure(figsize=(12, 6))\n",
        "sns.histplot(data=np.log1p(premium_houses['cost_per_sqft']), bins=30)\n",
        "plt.title('Log-Scaled Distribution of Cost per Square Foot for Premium Houses')\n",
        "plt.xlabel('Log(Cost per Square Foot)')\n",
        "plt.show()"
      ]
    },
    {
      "cell_type": "markdown",
      "metadata": {
        "id": "AIj4aGiF0jJA"
      },
      "source": [
        "### Task 12"
      ]
    },
    {
      "cell_type": "code",
      "execution_count": null,
      "metadata": {
        "id": "a4PbOC_z0k1L"
      },
      "outputs": [],
      "source": [
        "# Task 12\n",
        "def visualize_col(col):\n",
        "    fig, axes = plt.subplots(1, 3, figsize=(15, 5))\n",
        "\n",
        "    sns.kdeplot(df[col], ax=axes[0])\n",
        "    axes[0].set_title(f'KDE of {col}')\n",
        "\n",
        "    sns.boxplot(x=df[col], ax=axes[1])\n",
        "    axes[1].set_title(f'Boxplot of {col}')\n",
        "\n",
        "    sns.scatterplot(x=df[col], y=df['median_house_value'], ax=axes[2])\n",
        "    axes[2].set_title(f'Scatterplot of {col} vs median_house_value')\n",
        "\n",
        "    plt.tight_layout()\n",
        "    plt.show()"
      ]
    },
    {
      "cell_type": "code",
      "execution_count": null,
      "metadata": {
        "colab": {
          "base_uri": "https://localhost:8080/"
        },
        "id": "Z2Q2o_rH1gFK",
        "outputId": "a64f17e8-3ef3-4164-a3a5-57cff55c74d5"
      },
      "outputs": [],
      "source": [
        "visualize_col('total_bedrooms')"
      ]
    },
    {
      "cell_type": "markdown",
      "metadata": {
        "id": "xxakqVmJ0ueb"
      },
      "source": [
        "### Task 13"
      ]
    },
    {
      "cell_type": "code",
      "execution_count": null,
      "metadata": {
        "colab": {
          "base_uri": "https://localhost:8080/",
          "height": 414
        },
        "id": "hi7SifD70wUn",
        "outputId": "65a63d61-bb98-4325-c40d-f0acedb2f26f"
      },
      "outputs": [],
      "source": [
        "# Task 13\n",
        "def visualize_outlier(col):\n",
        "    mean = df[col].mean()\n",
        "    std_dev = df[col].std()\n",
        "\n",
        "    lower_bound = mean - 2 * std_dev\n",
        "    upper_bound = mean + 2 * std_dev\n",
        "\n",
        "    outliers = df[(df[col] < lower_bound) | (df[col] > upper_bound)]\n",
        "\n",
        "    print(f'Total number of outliers in {col}: {outliers.shape[0]}')\n",
        "\n",
        "    plt.figure(figsize=(12, 5))\n",
        "    sns.histplot(df[col], bins=45)\n",
        "\n",
        "    plt.axvspan(df[col].min(), lower_bound, color='red', alpha=0.3)\n",
        "    plt.axvspan(upper_bound, df[col].max(), color='red', alpha=0.3)\n",
        "\n",
        "    plt.xlabel(col)\n",
        "    plt.ylabel('Frequency')\n",
        "\n",
        "    plt.show()\n"
      ]
    },
    {
      "cell_type": "code",
      "execution_count": null,
      "metadata": {
        "colab": {
          "base_uri": "https://localhost:8080/",
          "height": 147
        },
        "id": "ZFKwPYeN-Pwz",
        "outputId": "de92c9ad-ac5c-40a7-fdee-cc6baf6a578a"
      },
      "outputs": [],
      "source": [
        "visualize_outlier('median_house_value')"
      ]
    },
    {
      "cell_type": "markdown",
      "metadata": {
        "id": "FPHZri4B0zzx"
      },
      "source": [
        "### Task 14"
      ]
    },
    {
      "cell_type": "code",
      "execution_count": null,
      "metadata": {
        "colab": {
          "base_uri": "https://localhost:8080/"
        },
        "id": "EYEAFSvt04kI",
        "outputId": "121da2f6-428b-4c34-8bd8-c0cfb1a0a734"
      },
      "outputs": [],
      "source": [
        "from sklearn.preprocessing import StandardScaler, MinMaxScaler\n",
        "\n",
        "numerical_features=df.select_dtypes(include=[np.number]).columns\n",
        "print(numerical_features)\n",
        "\n",
        "def scaler(df, numerical_features, scaler):\n",
        "    scaled_df = pd.DataFrame(scaler.fit_transform(df[numerical_features]), columns=numerical_features)\n",
        "    return scaled_df"
      ]
    },
    {
      "cell_type": "code",
      "execution_count": null,
      "metadata": {
        "colab": {
          "base_uri": "https://localhost:8080/",
          "height": 226
        },
        "id": "JMjJx1_f0-xv",
        "outputId": "eb99c9eb-ba8a-49a7-f40f-258964715fb0"
      },
      "outputs": [],
      "source": [
        "# Standard Scaler\n",
        "df_standard_scaled = scaler(df, numerical_features, StandardScaler())\n",
        "df_standard_scaled.head()"
      ]
    },
    {
      "cell_type": "code",
      "execution_count": null,
      "metadata": {
        "colab": {
          "base_uri": "https://localhost:8080/",
          "height": 150
        },
        "id": "vVxIVwx41Bhm",
        "outputId": "115da87a-1c75-44ae-82ca-5ec8e484e514"
      },
      "outputs": [],
      "source": [
        "print(\"StandardScaler ranges:\")\n",
        "df_standard_scaled.describe().loc[['min', 'max']]"
      ]
    },
    {
      "cell_type": "code",
      "execution_count": null,
      "metadata": {
        "colab": {
          "base_uri": "https://localhost:8080/",
          "height": 226
        },
        "id": "D4RwTWpu1FC2",
        "outputId": "2f783f17-f941-4767-c548-5cfa7a25628b"
      },
      "outputs": [],
      "source": [
        "# MinMax Scaler\n",
        "df_minmax_scaled = scaler(df, numerical_features, MinMaxScaler())\n",
        "df_minmax_scaled.head()"
      ]
    },
    {
      "cell_type": "code",
      "execution_count": null,
      "metadata": {
        "colab": {
          "base_uri": "https://localhost:8080/",
          "height": 150
        },
        "id": "gB_fdE-q1Mez",
        "outputId": "cf66c289-f5c5-4141-8843-f814461a6cc6"
      },
      "outputs": [],
      "source": [
        "print(\"MinMaxScaler ranges:\")\n",
        "df_minmax_scaled.describe().loc[['min', 'max']]"
      ]
    },
    {
      "cell_type": "code",
      "execution_count": null,
      "metadata": {},
      "outputs": [],
      "source": [
        "from sklearn.preprocessing import RobustScaler,QuantileTransformer,PowerTransformer\n",
        "\n",
        "# Robust Scaler\n",
        "df_robust_scaled = scaler(df, numerical_features, RobustScaler())\n",
        "df_robust_scaled.head()"
      ]
    },
    {
      "cell_type": "code",
      "execution_count": null,
      "metadata": {},
      "outputs": [],
      "source": [
        "print(\"RobustScaler ranges:\")\n",
        "df_robust_scaled.describe().loc[['min', 'max']]"
      ]
    },
    {
      "cell_type": "code",
      "execution_count": null,
      "metadata": {},
      "outputs": [],
      "source": [
        "# Quantile Transformer\n",
        "df_quantile_scaled = scaler(df, numerical_features, QuantileTransformer())\n",
        "df_quantile_scaled.head()"
      ]
    },
    {
      "cell_type": "code",
      "execution_count": null,
      "metadata": {},
      "outputs": [],
      "source": [
        "print(\"QuantileTransformer ranges:\")\n",
        "df_quantile_scaled.describe().loc[['min', 'max']]"
      ]
    },
    {
      "cell_type": "code",
      "execution_count": null,
      "metadata": {},
      "outputs": [],
      "source": [
        "# Power Transformer\n",
        "df_power_scaled = scaler(df, numerical_features, PowerTransformer())\n",
        "df_power_scaled.head()"
      ]
    },
    {
      "cell_type": "code",
      "execution_count": null,
      "metadata": {},
      "outputs": [],
      "source": [
        "print(\"PowerTransformer ranges:\")\n",
        "df_power_scaled.describe().loc[['min', 'max']]"
      ]
    },
    {
      "cell_type": "markdown",
      "metadata": {},
      "source": [
        "**StandardScaler:**\n",
        "- Centers the data to have a mean of 0 and a standard deviation of 1.\n",
        "- Useful when the data follows a Gaussian distribution.\n",
        "- Drawback: Sensitive to outliers.\n",
        "\n",
        "**MinMaxScaler:**\n",
        "- Scales the data to a fixed range, usually [0, 1].\n",
        "- Useful when the data does not follow a Gaussian distribution.\n",
        "- Drawback: Sensitive to outliers.\n",
        "\n",
        "**RobustScaler:**\n",
        "- Scales the data using statistics that are robust to outliers (median and IQR).\n",
        "- Useful when the data contains outliers.\n",
        "\n",
        "**QuantileTransformer:**\n",
        "- Transforms the data to follow a uniform or normal distribution.\n",
        "- Useful for non-Gaussian data.\n",
        "- Drawback: Can distort correlations between features.\n",
        "\n",
        "**PowerTransformer:**\n",
        "- Applies a power transformation to make the data more Gaussian-like.\n",
        "- Useful for positive data with skewed distributions.\n",
        "- Drawback: Requires positive data.\n"
      ]
    }
  ],
  "metadata": {
    "colab": {
      "provenance": []
    },
    "kernelspec": {
      "display_name": "Python 3",
      "name": "python3"
    },
    "language_info": {
      "codemirror_mode": {
        "name": "ipython",
        "version": 3
      },
      "file_extension": ".py",
      "mimetype": "text/x-python",
      "name": "python",
      "nbconvert_exporter": "python",
      "pygments_lexer": "ipython3",
      "version": "3.12.4"
    }
  },
  "nbformat": 4,
  "nbformat_minor": 0
}
